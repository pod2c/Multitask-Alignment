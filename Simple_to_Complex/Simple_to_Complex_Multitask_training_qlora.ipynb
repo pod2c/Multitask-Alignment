{
 "cells": [
  {
   "cell_type": "code",
   "execution_count": 1,
   "id": "cf65566c-a906-4a94-9137-336dc749dfd5",
   "metadata": {},
   "outputs": [],
   "source": [
    "import torch\n",
    "import torch.nn as nn\n",
    "from transformers import AutoModelForCausalLM, AutoTokenizer, BitsAndBytesConfig, DataCollatorWithPadding\n",
    "from datasets import load_dataset, concatenate_datasets\n",
    "from torch.utils.data import DataLoader\n",
    "from tqdm import tqdm\n",
    "from peft import PeftModel, PeftConfig\n",
    "import wandb\n",
    "import os"
   ]
  },
  {
   "cell_type": "code",
   "execution_count": 2,
   "id": "3f649163-efe1-41ac-a8ae-5fe137e78987",
   "metadata": {},
   "outputs": [
    {
     "name": "stderr",
     "output_type": "stream",
     "text": [
      "Failed to detect the name of this notebook, you can set it manually with the WANDB_NOTEBOOK_NAME environment variable to enable code saving.\n",
      "\u001b[34m\u001b[1mwandb\u001b[0m: Currently logged in as: \u001b[33ms1820587\u001b[0m. Use \u001b[1m`wandb login --relogin`\u001b[0m to force relogin\n"
     ]
    },
    {
     "data": {
      "text/plain": [
       "True"
      ]
     },
     "execution_count": 2,
     "metadata": {},
     "output_type": "execute_result"
    }
   ],
   "source": [
    "# wandb 登录\n",
    "wandb_api_key = \"49b1a1cdc297defea9722d651839cd8621111183\"  # 替换为你的 API 密钥\n",
    "os.environ[\"WANDB_API_KEY\"] = wandb_api_key\n",
    "wandb.login()"
   ]
  },
  {
   "cell_type": "code",
   "execution_count": 3,
   "id": "d758b447-9a3c-4001-9616-cc03e72ee715",
   "metadata": {},
   "outputs": [
    {
     "data": {
      "text/html": [
       "Tracking run with wandb version 0.17.3"
      ],
      "text/plain": [
       "<IPython.core.display.HTML object>"
      ]
     },
     "metadata": {},
     "output_type": "display_data"
    },
    {
     "data": {
      "text/html": [
       "Run data is saved locally in <code>/wandb/run-20240625_124103-4zu8yn35</code>"
      ],
      "text/plain": [
       "<IPython.core.display.HTML object>"
      ]
     },
     "metadata": {},
     "output_type": "display_data"
    },
    {
     "data": {
      "text/html": [
       "Syncing run <strong><a href='https://wandb.ai/s1820587/multitask_lora_finetuning/runs/4zu8yn35' target=\"_blank\">experiment_1</a></strong> to <a href='https://wandb.ai/s1820587/multitask_lora_finetuning' target=\"_blank\">Weights & Biases</a> (<a href='https://wandb.me/run' target=\"_blank\">docs</a>)<br/>"
      ],
      "text/plain": [
       "<IPython.core.display.HTML object>"
      ]
     },
     "metadata": {},
     "output_type": "display_data"
    },
    {
     "data": {
      "text/html": [
       " View project at <a href='https://wandb.ai/s1820587/multitask_lora_finetuning' target=\"_blank\">https://wandb.ai/s1820587/multitask_lora_finetuning</a>"
      ],
      "text/plain": [
       "<IPython.core.display.HTML object>"
      ]
     },
     "metadata": {},
     "output_type": "display_data"
    },
    {
     "data": {
      "text/html": [
       " View run at <a href='https://wandb.ai/s1820587/multitask_lora_finetuning/runs/4zu8yn35' target=\"_blank\">https://wandb.ai/s1820587/multitask_lora_finetuning/runs/4zu8yn35</a>"
      ],
      "text/plain": [
       "<IPython.core.display.HTML object>"
      ]
     },
     "metadata": {},
     "output_type": "display_data"
    },
    {
     "data": {
      "text/html": [
       "<button onClick=\"this.nextSibling.style.display='block';this.style.display='none';\">Display W&B run</button><iframe src='https://wandb.ai/s1820587/multitask_lora_finetuning/runs/4zu8yn35?jupyter=true' style='border:none;width:100%;height:420px;display:none;'></iframe>"
      ],
      "text/plain": [
       "<wandb.sdk.wandb_run.Run at 0x7f39ee803310>"
      ]
     },
     "execution_count": 3,
     "metadata": {},
     "output_type": "execute_result"
    }
   ],
   "source": [
    "# 初始化 wandb\n",
    "wandb.init(project=\"multitask_lora_finetuning\", name=\"experiment_1\")"
   ]
  },
  {
   "cell_type": "code",
   "execution_count": 4,
   "id": "ce955ee5-888f-41fc-9e35-c0ea334bb052",
   "metadata": {},
   "outputs": [],
   "source": [
    "# 设置设备\n",
    "#device = torch.device('cuda' if torch.cuda.is_available() else 'cpu')"
   ]
  },
  {
   "cell_type": "code",
   "execution_count": 5,
   "id": "cd4f3fa7-062a-47b6-baea-f1034e2a364e",
   "metadata": {},
   "outputs": [],
   "source": [
    "# 加载数据集\n",
    "def load_and_preprocess_datasets(num_samples=10000):\n",
    "    imdb_dataset = load_dataset(\"imdb\")\n",
    "    agnews_dataset = load_dataset(\"ag_news\")\n",
    "\n",
    "    imdb_train_dataset = imdb_dataset[\"train\"].shuffle(seed=42).select(range(num_samples))\n",
    "    agnews_train_dataset = agnews_dataset[\"train\"].shuffle(seed=42).select(range(num_samples))\n",
    "\n",
    "    imdb_train_dataset = imdb_train_dataset.rename_column(\"label\", \"imdb_label\")\n",
    "    agnews_train_dataset = agnews_train_dataset.rename_column(\"label\", \"agnews_label\")\n",
    "\n",
    "    imdb_train_dataset = imdb_train_dataset.add_column(\"task_type\", [\"imdb\"] * len(imdb_train_dataset))\n",
    "    agnews_train_dataset = agnews_train_dataset.add_column(\"task_type\", [\"agnews\"] * len(agnews_train_dataset))\n",
    "\n",
    "    return imdb_train_dataset, agnews_train_dataset\n",
    "\n",
    "imdb_train_dataset, agnews_train_dataset = load_and_preprocess_datasets()"
   ]
  },
  {
   "cell_type": "code",
   "execution_count": 6,
   "id": "2576aee6-d646-46c4-beb7-049c0be51774",
   "metadata": {},
   "outputs": [],
   "source": [
    "# 数据预处理函数\n",
    "def preprocess_function(examples, tokenizer):\n",
    "    if 'text' in examples:\n",
    "        encodings = tokenizer(examples['text'], truncation=True, max_length=512)\n",
    "    else:\n",
    "        encodings = {'input_ids': [[]] * len(examples['task_type']), 'attention_mask': [[]] * len(examples['task_type'])}\n",
    "    \n",
    "    task_type_map = {'imdb': 0, 'agnews': 1}\n",
    "    encodings['task_type'] = [task_type_map[task_type] for task_type in examples['task_type']]\n",
    "    \n",
    "    encodings.update({\n",
    "        'imdb_label': examples['imdb_label'] if 'imdb_label' in examples else [None] * len(examples['task_type']),\n",
    "        'agnews_label': examples['agnews_label'] if 'agnews_label' in examples else [None] * len(examples['task_type']),\n",
    "    })\n",
    "    \n",
    "    return encodings"
   ]
  },
  {
   "cell_type": "code",
   "execution_count": 7,
   "id": "59f80cd4-ba6f-451a-91c6-5394c490fd2e",
   "metadata": {},
   "outputs": [
    {
     "name": "stderr",
     "output_type": "stream",
     "text": [
      "Special tokens have been added in the vocabulary, make sure the associated word embeddings are fine-tuned or trained.\n"
     ]
    }
   ],
   "source": [
    "# 设置模型和tokenizer\n",
    "model_name = 'finetuned_lora_model'  # 替换为你的预训练模型路径\n",
    "tokenizer = AutoTokenizer.from_pretrained('llama3')\n",
    "tokenizer.pad_token = tokenizer.eos_token"
   ]
  },
  {
   "cell_type": "code",
   "execution_count": 8,
   "id": "8bb5d188-6d1c-4b19-baee-8512057bfa79",
   "metadata": {},
   "outputs": [],
   "source": [
    "# 设置QLoRA配置\n",
    "bnb_config = BitsAndBytesConfig(\n",
    "    load_in_4bit=True,\n",
    "    bnb_4bit_use_double_quant=True,\n",
    "    bnb_4bit_quant_type=\"nf4\",\n",
    "    bnb_4bit_compute_dtype=torch.bfloat16\n",
    ")"
   ]
  },
  {
   "cell_type": "code",
   "execution_count": 9,
   "id": "18cc6239-c4b7-4c72-beb9-df7401a536e6",
   "metadata": {},
   "outputs": [
    {
     "data": {
      "application/vnd.jupyter.widget-view+json": {
       "model_id": "0b8203ab9bf84115891ad1fbd9b5d786",
       "version_major": 2,
       "version_minor": 0
      },
      "text/plain": [
       "Loading checkpoint shards:   0%|          | 0/4 [00:00<?, ?it/s]"
      ]
     },
     "metadata": {},
     "output_type": "display_data"
    }
   ],
   "source": [
    "# 加载预训练的 PeftModel\n",
    "peft_config = PeftConfig.from_pretrained(model_name)\n",
    "model = AutoModelForCausalLM.from_pretrained(\n",
    "    peft_config.base_model_name_or_path,\n",
    "    quantization_config=bnb_config,\n",
    "    device_map=\"auto\"\n",
    ")\n",
    "model = PeftModel.from_pretrained(model, model_name)"
   ]
  },
  {
   "cell_type": "code",
   "execution_count": 10,
   "id": "c23ecd91-8722-4ec5-adc2-6e57f523ef1e",
   "metadata": {},
   "outputs": [],
   "source": [
    "# 解冻LoRA参数\n",
    "for name, param in model.named_parameters():\n",
    "    if 'lora' in name or 'adapter' in name:\n",
    "        param.requires_grad = True"
   ]
  },
  {
   "cell_type": "code",
   "execution_count": 11,
   "id": "02f2da2a-faf2-4780-9346-850ace2440e2",
   "metadata": {},
   "outputs": [
    {
     "data": {
      "application/vnd.jupyter.widget-view+json": {
       "model_id": "1270c6f760724fffad69a50398cf7294",
       "version_major": 2,
       "version_minor": 0
      },
      "text/plain": [
       "Map:   0%|          | 0/10000 [00:00<?, ? examples/s]"
      ]
     },
     "metadata": {},
     "output_type": "display_data"
    },
    {
     "data": {
      "application/vnd.jupyter.widget-view+json": {
       "model_id": "41a16a0361994c4f97562b3731542d7f",
       "version_major": 2,
       "version_minor": 0
      },
      "text/plain": [
       "Map:   0%|          | 0/10000 [00:00<?, ? examples/s]"
      ]
     },
     "metadata": {},
     "output_type": "display_data"
    }
   ],
   "source": [
    "# 数据预处理\n",
    "imdb_train_dataset = imdb_train_dataset.map(\n",
    "    lambda examples: preprocess_function(examples, tokenizer),\n",
    "    batched=True, remove_columns=['text']\n",
    ")\n",
    "agnews_train_dataset = agnews_train_dataset.map(\n",
    "    lambda examples: preprocess_function(examples, tokenizer),\n",
    "    batched=True, remove_columns=['text']\n",
    ")"
   ]
  },
  {
   "cell_type": "code",
   "execution_count": 12,
   "id": "59fad307-5573-4f04-9f41-74a46424d266",
   "metadata": {},
   "outputs": [],
   "source": [
    "# 合并数据集\n",
    "train_dataset = concatenate_datasets([imdb_train_dataset, agnews_train_dataset])\n",
    "\n",
    "# 设置数据格式\n",
    "train_dataset.set_format(type='torch', columns=['input_ids', 'attention_mask', 'task_type', 'imdb_label', 'agnews_label'])\n",
    "\n",
    "# 创建 DataCollator\n",
    "data_collator = DataCollatorWithPadding(tokenizer=tokenizer)"
   ]
  },
  {
   "cell_type": "code",
   "execution_count": 13,
   "id": "03b5f3df-4993-4883-b690-4c0e4721e80e",
   "metadata": {},
   "outputs": [],
   "source": [
    "# 创建 DataLoader\n",
    "batch_size = 8\n",
    "train_dataloader = DataLoader(train_dataset, batch_size=batch_size, shuffle=True, collate_fn=data_collator)"
   ]
  },
  {
   "cell_type": "code",
   "execution_count": 14,
   "id": "a7a1f81b-a46a-4528-a866-5c400ada802e",
   "metadata": {},
   "outputs": [],
   "source": [
    "# 定义损失函数和优化器\n",
    "imdb_criterion = nn.CrossEntropyLoss()\n",
    "agnews_criterion = nn.CrossEntropyLoss()\n",
    "learning_rate = 2e-5\n",
    "optimizer = torch.optim.AdamW(model.parameters(), lr=learning_rate)"
   ]
  },
  {
   "cell_type": "code",
   "execution_count": 16,
   "id": "57a34786-b6da-4c8d-92f4-6767c9452cff",
   "metadata": {},
   "outputs": [],
   "source": [
    "# 设置混合精度训练\n",
    "scaler = torch.cuda.amp.GradScaler()\n",
    "\n",
    "# 训练循环\n",
    "num_epochs = 3\n",
    "accumulation_steps = 4  # 梯度累积步数\n",
    "total_steps = num_epochs * len(train_dataloader)"
   ]
  },
  {
   "cell_type": "code",
   "execution_count": 17,
   "id": "dbb4163a-7420-4640-882a-8933404e30e2",
   "metadata": {},
   "outputs": [],
   "source": [
    "# 配置 wandb\n",
    "wandb.config.update({\n",
    "    \"learning_rate\": learning_rate,\n",
    "    \"epochs\": num_epochs,\n",
    "    \"batch_size\": batch_size,\n",
    "    \"accumulation_steps\": accumulation_steps,\n",
    "    \"model_name\": model_name,\n",
    "})"
   ]
  },
  {
   "cell_type": "code",
   "execution_count": 18,
   "id": "117b4d65-e27c-468e-b11d-1c2c26677b85",
   "metadata": {},
   "outputs": [
    {
     "name": "stderr",
     "output_type": "stream",
     "text": [
      "Training:  33%|███▎      | 2500/7500 [48:16<1:41:53,  1.22s/it]"
     ]
    },
    {
     "name": "stdout",
     "output_type": "stream",
     "text": [
      "Epoch [1/3], Loss: 2.4884, IMDB Loss: 1.2708, AGNews Loss: 1.2176\n"
     ]
    },
    {
     "name": "stderr",
     "output_type": "stream",
     "text": [
      "Training:  67%|██████▋   | 5000/7500 [1:36:34<52:14,  1.25s/it]  "
     ]
    },
    {
     "name": "stdout",
     "output_type": "stream",
     "text": [
      "Epoch [2/3], Loss: 0.3987, IMDB Loss: 0.1247, AGNews Loss: 0.2740\n"
     ]
    },
    {
     "name": "stderr",
     "output_type": "stream",
     "text": [
      "Training: 100%|██████████| 7500/7500 [2:24:51<00:00,  1.16s/it]"
     ]
    },
    {
     "name": "stdout",
     "output_type": "stream",
     "text": [
      "Epoch [3/3], Loss: 0.3290, IMDB Loss: 0.1093, AGNews Loss: 0.2196\n"
     ]
    },
    {
     "name": "stderr",
     "output_type": "stream",
     "text": [
      "\n"
     ]
    }
   ],
   "source": [
    "with tqdm(total=total_steps, desc=\"Training\") as pbar:\n",
    "    for epoch in range(num_epochs):\n",
    "        epoch_loss = 0.0\n",
    "        imdb_epoch_loss = 0.0\n",
    "        agnews_epoch_loss = 0.0\n",
    "        \n",
    "        for i, batch in enumerate(train_dataloader):\n",
    "            input_ids = batch['input_ids'].to(model.device)\n",
    "            attention_mask = batch['attention_mask'].to(model.device)\n",
    "            task_type = batch['task_type'].to(model.device)\n",
    "            \n",
    "            imdb_indices = [i for i, task in enumerate(task_type) if task == 0]\n",
    "            agnews_indices = [i for i, task in enumerate(task_type) if task == 1]\n",
    "            \n",
    "            with torch.cuda.amp.autocast(dtype=torch.bfloat16):  # 使用bfloat16混合精度\n",
    "                if len(imdb_indices) > 0:\n",
    "                    imdb_outputs = model(input_ids[imdb_indices], attention_mask[imdb_indices])\n",
    "                    imdb_logits = imdb_outputs.logits[:, -1, :].float()  # 确保是float32类型\n",
    "                    imdb_labels = batch['imdb_label'][imdb_indices].to(model.device).long()  # 确保是long类型\n",
    "                    imdb_loss = imdb_criterion(imdb_logits, imdb_labels)\n",
    "                else:\n",
    "                    imdb_loss = torch.tensor(0.0, device=model.device)\n",
    "\n",
    "                if len(agnews_indices) > 0:\n",
    "                    agnews_outputs = model(input_ids[agnews_indices], attention_mask[agnews_indices])\n",
    "                    agnews_logits = agnews_outputs.logits[:, -1, :].float()  # 确保是float32类型\n",
    "                    agnews_labels = batch['agnews_label'][agnews_indices].to(model.device).long()  # 确保是long类型\n",
    "                    agnews_loss = agnews_criterion(agnews_logits, agnews_labels)\n",
    "                else:\n",
    "                    agnews_loss = torch.tensor(0.0, device=model.device)\n",
    "\n",
    "                loss = (imdb_loss + agnews_loss) / accumulation_steps\n",
    "\n",
    "            scaler.scale(loss).backward()\n",
    "            \n",
    "            if (i + 1) % accumulation_steps == 0 or (i + 1) == len(train_dataloader):\n",
    "                scaler.step(optimizer)\n",
    "                scaler.update()\n",
    "                optimizer.zero_grad()\n",
    "            \n",
    "            epoch_loss += loss.item() * accumulation_steps\n",
    "            imdb_epoch_loss += imdb_loss.item()\n",
    "            agnews_epoch_loss += agnews_loss.item()\n",
    "            \n",
    "            pbar.update(1)\n",
    "            \n",
    "            # Log to wandb\n",
    "            wandb.log({\n",
    "                \"batch_loss\": loss.item(),\n",
    "                \"batch_imdb_loss\": imdb_loss.item(),\n",
    "                \"batch_agnews_loss\": agnews_loss.item(),\n",
    "            })\n",
    "        \n",
    "        avg_epoch_loss = epoch_loss / len(train_dataloader)\n",
    "        avg_imdb_loss = imdb_epoch_loss / len(train_dataloader)\n",
    "        avg_agnews_loss = agnews_epoch_loss / len(train_dataloader)\n",
    "        \n",
    "        print(f\"Epoch [{epoch+1}/{num_epochs}], Loss: {avg_epoch_loss:.4f}, IMDB Loss: {avg_imdb_loss:.4f}, AGNews Loss: {avg_agnews_loss:.4f}\")\n",
    "        \n",
    "        # Log epoch metrics to wandb\n",
    "        wandb.log({\n",
    "            \"epoch\": epoch + 1,\n",
    "            \"epoch_loss\": avg_epoch_loss,\n",
    "            \"epoch_imdb_loss\": avg_imdb_loss,\n",
    "            \"epoch_agnews_loss\": avg_agnews_loss,\n",
    "        })"
   ]
  },
  {
   "cell_type": "code",
   "execution_count": 19,
   "id": "819b1ebb-e2b4-4253-97c2-ef6f544e1ada",
   "metadata": {},
   "outputs": [
    {
     "name": "stdout",
     "output_type": "stream",
     "text": [
      "Model saved to trained_model\n"
     ]
    },
    {
     "data": {
      "application/vnd.jupyter.widget-view+json": {
       "model_id": "",
       "version_major": 2,
       "version_minor": 0
      },
      "text/plain": [
       "VBox(children=(Label(value='0.013 MB of 0.013 MB uploaded\\r'), FloatProgress(value=1.0, max=1.0)))"
      ]
     },
     "metadata": {},
     "output_type": "display_data"
    },
    {
     "data": {
      "text/html": [
       "<style>\n",
       "    table.wandb td:nth-child(1) { padding: 0 10px; text-align: left ; width: auto;} td:nth-child(2) {text-align: left ; width: 100%}\n",
       "    .wandb-row { display: flex; flex-direction: row; flex-wrap: wrap; justify-content: flex-start; width: 100% }\n",
       "    .wandb-col { display: flex; flex-direction: column; flex-basis: 100%; flex: 1; padding: 10px; }\n",
       "    </style>\n",
       "<div class=\"wandb-row\"><div class=\"wandb-col\"><h3>Run history:</h3><br/><table class=\"wandb\"><tr><td>batch_agnews_loss</td><td>█▅▃▂▂▁▁▁▁▁▁▁▁▁▁▁▁▂▁▁▁▁▁▁▁▁▁▁▁▁▁▂▁▁▁▁▁▂▁▂</td></tr><tr><td>batch_imdb_loss</td><td>█▄▅▂▂▁▁▁▁▁▁▁▁▁▁▁▂▁▁▁▁▁▁▁▁▁▁▁▁▁▁▁▁▁▁▁▁▁▁▁</td></tr><tr><td>batch_loss</td><td>█▅▄▂▂▁▁▁▁▁▁▁▁▁▁▁▁▁▁▁▁▁▁▁▁▁▁▁▁▁▁▁▁▁▁▁▁▁▁▁</td></tr><tr><td>epoch</td><td>▁▅█</td></tr><tr><td>epoch_agnews_loss</td><td>█▁▁</td></tr><tr><td>epoch_imdb_loss</td><td>█▁▁</td></tr><tr><td>epoch_loss</td><td>█▁▁</td></tr></table><br/></div><div class=\"wandb-col\"><h3>Run summary:</h3><br/><table class=\"wandb\"><tr><td>batch_agnews_loss</td><td>0.09395</td></tr><tr><td>batch_imdb_loss</td><td>0.72328</td></tr><tr><td>batch_loss</td><td>0.20431</td></tr><tr><td>epoch</td><td>3</td></tr><tr><td>epoch_agnews_loss</td><td>0.21962</td></tr><tr><td>epoch_imdb_loss</td><td>0.10933</td></tr><tr><td>epoch_loss</td><td>0.32895</td></tr></table><br/></div></div>"
      ],
      "text/plain": [
       "<IPython.core.display.HTML object>"
      ]
     },
     "metadata": {},
     "output_type": "display_data"
    },
    {
     "data": {
      "text/html": [
       " View run <strong style=\"color:#cdcd00\">experiment_1</strong> at: <a href='https://wandb.ai/s1820587/multitask_lora_finetuning/runs/4zu8yn35' target=\"_blank\">https://wandb.ai/s1820587/multitask_lora_finetuning/runs/4zu8yn35</a><br/> View project at: <a href='https://wandb.ai/s1820587/multitask_lora_finetuning' target=\"_blank\">https://wandb.ai/s1820587/multitask_lora_finetuning</a><br/>Synced 6 W&B file(s), 0 media file(s), 0 artifact file(s) and 0 other file(s)"
      ],
      "text/plain": [
       "<IPython.core.display.HTML object>"
      ]
     },
     "metadata": {},
     "output_type": "display_data"
    },
    {
     "data": {
      "text/html": [
       "Find logs at: <code></code>"
      ],
      "text/plain": [
       "<IPython.core.display.HTML object>"
      ]
     },
     "metadata": {},
     "output_type": "display_data"
    },
    {
     "data": {
      "text/html": [
       "The new W&B backend becomes opt-out in version 0.18.0; try it out with `wandb.require(\"core\")`! See https://wandb.me/wandb-core for more information."
      ],
      "text/plain": [
       "<IPython.core.display.HTML object>"
      ]
     },
     "metadata": {},
     "output_type": "display_data"
    }
   ],
   "source": [
    "# 保存模型\n",
    "model.save_pretrained(\"trained_model\")\n",
    "print(\"Model saved to trained_model\")\n",
    "\n",
    "# 结束 wandb 运行\n",
    "wandb.finish()"
   ]
  },
  {
   "cell_type": "code",
   "execution_count": null,
   "id": "9997bed0-8bf2-4456-af58-f0303864b95b",
   "metadata": {},
   "outputs": [],
   "source": []
  }
 ],
 "metadata": {
  "kernelspec": {
   "display_name": "Python 3 (ipykernel)",
   "language": "python",
   "name": "python3"
  },
  "language_info": {
   "codemirror_mode": {
    "name": "ipython",
    "version": 3
   },
   "file_extension": ".py",
   "mimetype": "text/x-python",
   "name": "python",
   "nbconvert_exporter": "python",
   "pygments_lexer": "ipython3",
   "version": "3.10.13"
  }
 },
 "nbformat": 4,
 "nbformat_minor": 5
}
