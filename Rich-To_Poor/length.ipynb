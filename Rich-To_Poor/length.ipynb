{
 "cells": [
  {
   "cell_type": "code",
   "execution_count": 1,
   "id": "9eb2a0d2-87e5-4abb-86b3-ea710484cba8",
   "metadata": {},
   "outputs": [
    {
     "name": "stderr",
     "output_type": "stream",
     "text": [
      "The cache for model files in Transformers v4.22.0 has been updated. Migrating your old cache. This is a one-time only operation. You can interrupt this and resume the migration later on by calling `transformers.utils.move_cache()`.\n"
     ]
    },
    {
     "data": {
      "application/vnd.jupyter.widget-view+json": {
       "model_id": "9d4705abf0c141c1ab7af245231390b9",
       "version_major": 2,
       "version_minor": 0
      },
      "text/plain": [
       "0it [00:00, ?it/s]"
      ]
     },
     "metadata": {},
     "output_type": "display_data"
    },
    {
     "name": "stderr",
     "output_type": "stream",
     "text": [
      "Special tokens have been added in the vocabulary, make sure the associated word embeddings are fine-tuned or trained.\n"
     ]
    },
    {
     "data": {
      "application/vnd.jupyter.widget-view+json": {
       "model_id": "7fa8d5d1764b4895a1c8676176283cd2",
       "version_major": 2,
       "version_minor": 0
      },
      "text/plain": [
       "Map:   0%|          | 0/1000 [00:00<?, ? examples/s]"
      ]
     },
     "metadata": {},
     "output_type": "display_data"
    },
    {
     "name": "stdout",
     "output_type": "stream",
     "text": [
      "SQuAD v2 数据集采样数据的平均token长度:\n",
      "上下文 (Context): 160.19\n",
      "问题 (Question): 13.41\n",
      "\n",
      "最大token长度:\n",
      "上下文 (Context): 741\n",
      "问题 (Question): 33\n",
      "\n",
      "90%分位数的token长度:\n",
      "上下文 (Context): 245.00\n",
      "问题 (Question): 19.00\n"
     ]
    }
   ],
   "source": [
    "from datasets import load_dataset\n",
    "from transformers import AutoTokenizer\n",
    "import numpy as np\n",
    "\n",
    "# 加载数据集\n",
    "dataset = load_dataset(\"squad\", split=\"train\")\n",
    "\n",
    "# 加载tokenizer\n",
    "tokenizer = AutoTokenizer.from_pretrained(\"llama3\")\n",
    "\n",
    "# 定义函数计算token长度\n",
    "def get_token_length(example):\n",
    "    context_length = len(tokenizer.encode(example['context']))\n",
    "    question_length = len(tokenizer.encode(example['question']))\n",
    "    return {'context_token_length': context_length, 'question_token_length': question_length}\n",
    "\n",
    "# 随机采样1000条数据\n",
    "sampled_dataset = dataset.shuffle(seed=42).select(range(1000))\n",
    "\n",
    "# 计算采样数据的token长度\n",
    "token_lengths = sampled_dataset.map(get_token_length)\n",
    "\n",
    "# 计算平均长度\n",
    "avg_context_length = np.mean(token_lengths['context_token_length'])\n",
    "avg_question_length = np.mean(token_lengths['question_token_length'])\n",
    "\n",
    "print(f\"SQuAD v2 数据集采样数据的平均token长度:\")\n",
    "print(f\"上下文 (Context): {avg_context_length:.2f}\")\n",
    "print(f\"问题 (Question): {avg_question_length:.2f}\")\n",
    "\n",
    "# 计算最大长度\n",
    "max_context_length = np.max(token_lengths['context_token_length'])\n",
    "max_question_length = np.max(token_lengths['question_token_length'])\n",
    "\n",
    "print(f\"\\n最大token长度:\")\n",
    "print(f\"上下文 (Context): {max_context_length}\")\n",
    "print(f\"问题 (Question): {max_question_length}\")\n",
    "\n",
    "# 计算90%分位数的长度\n",
    "percentile_90_context = np.percentile(token_lengths['context_token_length'], 90)\n",
    "percentile_90_question = np.percentile(token_lengths['question_token_length'], 90)\n",
    "\n",
    "print(f\"\\n90%分位数的token长度:\")\n",
    "print(f\"上下文 (Context): {percentile_90_context:.2f}\")\n",
    "print(f\"问题 (Question): {percentile_90_question:.2f}\")"
   ]
  },
  {
   "cell_type": "code",
   "execution_count": 3,
   "id": "e9c1d4a0-44cc-4601-b5c2-0bb0899012ff",
   "metadata": {},
   "outputs": [
    {
     "data": {
      "application/vnd.jupyter.widget-view+json": {
       "model_id": "28c5708bff774d3c961c95f78633a296",
       "version_major": 2,
       "version_minor": 0
      },
      "text/plain": [
       "Downloading data:   0%|          | 0.00/20.1M [00:00<?, ?B/s]"
      ]
     },
     "metadata": {},
     "output_type": "display_data"
    },
    {
     "data": {
      "application/vnd.jupyter.widget-view+json": {
       "model_id": "0f3ab0b9d3b74c698e40b8a23f3432b7",
       "version_major": 2,
       "version_minor": 0
      },
      "text/plain": [
       "Downloading data:   0%|          | 0.00/25.7M [00:00<?, ?B/s]"
      ]
     },
     "metadata": {},
     "output_type": "display_data"
    },
    {
     "data": {
      "application/vnd.jupyter.widget-view+json": {
       "model_id": "80f68de66516478baa9728cbd6ef829e",
       "version_major": 2,
       "version_minor": 0
      },
      "text/plain": [
       "Downloading data:   0%|          | 0.00/743k [00:00<?, ?B/s]"
      ]
     },
     "metadata": {},
     "output_type": "display_data"
    },
    {
     "data": {
      "application/vnd.jupyter.widget-view+json": {
       "model_id": "223b253ac7054159a1821b71610bb1a5",
       "version_major": 2,
       "version_minor": 0
      },
      "text/plain": [
       "Downloading data:   0%|          | 0.00/875k [00:00<?, ?B/s]"
      ]
     },
     "metadata": {},
     "output_type": "display_data"
    },
    {
     "data": {
      "application/vnd.jupyter.widget-view+json": {
       "model_id": "6f1083aa115b46149d305face86304f2",
       "version_major": 2,
       "version_minor": 0
      },
      "text/plain": [
       "Downloading data:   0%|          | 0.00/1.05M [00:00<?, ?B/s]"
      ]
     },
     "metadata": {},
     "output_type": "display_data"
    },
    {
     "data": {
      "application/vnd.jupyter.widget-view+json": {
       "model_id": "697d6b918a2447adbf0d65b0b29c4a28",
       "version_major": 2,
       "version_minor": 0
      },
      "text/plain": [
       "Downloading data:   0%|          | 0.00/1.36M [00:00<?, ?B/s]"
      ]
     },
     "metadata": {},
     "output_type": "display_data"
    },
    {
     "data": {
      "application/vnd.jupyter.widget-view+json": {
       "model_id": "3aaec73590eb4035a1ea8e868a8927a6",
       "version_major": 2,
       "version_minor": 0
      },
      "text/plain": [
       "Generating train split:   0%|          | 0/160800 [00:00<?, ? examples/s]"
      ]
     },
     "metadata": {},
     "output_type": "display_data"
    },
    {
     "data": {
      "application/vnd.jupyter.widget-view+json": {
       "model_id": "7b6b1c195b374763861bcbb1e21ead04",
       "version_major": 2,
       "version_minor": 0
      },
      "text/plain": [
       "Generating test split:   0%|          | 0/8552 [00:00<?, ? examples/s]"
      ]
     },
     "metadata": {},
     "output_type": "display_data"
    },
    {
     "name": "stderr",
     "output_type": "stream",
     "text": [
      "Special tokens have been added in the vocabulary, make sure the associated word embeddings are fine-tuned or trained.\n"
     ]
    },
    {
     "data": {
      "application/vnd.jupyter.widget-view+json": {
       "model_id": "74a0311eb0fe43f8915c17c1c0a21a17",
       "version_major": 2,
       "version_minor": 0
      },
      "text/plain": [
       "Map:   0%|          | 0/1000 [00:00<?, ? examples/s]"
      ]
     },
     "metadata": {},
     "output_type": "display_data"
    },
    {
     "name": "stdout",
     "output_type": "stream",
     "text": [
      "hh-rlhf 数据集采样数据的平均token长度:\n",
      "被选择的回复 (Chosen): 220.70\n",
      "被拒绝的回复 (Rejected): 220.43\n",
      "\n",
      "最大token长度:\n",
      "被选择的回复 (Chosen): 1860\n",
      "被拒绝的回复 (Rejected): 1860\n",
      "\n",
      "90%分位数的token长度:\n",
      "被选择的回复 (Chosen): 459.40\n",
      "被拒绝的回复 (Rejected): 453.10\n"
     ]
    }
   ],
   "source": [
    "from datasets import load_dataset\n",
    "from transformers import AutoTokenizer\n",
    "import numpy as np\n",
    "\n",
    "# 加载数据集\n",
    "dataset = load_dataset(\"hh-rlhf\", split=\"train\")\n",
    "\n",
    "# 加载tokenizer\n",
    "tokenizer = AutoTokenizer.from_pretrained(\"llama3\")  # 使用 GPT-2 的 tokenizer\n",
    "\n",
    "# 定义函数计算token长度\n",
    "def get_token_length(example):\n",
    "    chosen_length = len(tokenizer.encode(example['chosen']))\n",
    "    rejected_length = len(tokenizer.encode(example['rejected']))\n",
    "    return {'chosen_token_length': chosen_length, 'rejected_token_length': rejected_length}\n",
    "\n",
    "# 随机采样1000条数据\n",
    "sampled_dataset = dataset.shuffle(seed=42).select(range(1000))\n",
    "\n",
    "# 计算采样数据的token长度\n",
    "token_lengths = sampled_dataset.map(get_token_length)\n",
    "\n",
    "# 计算平均长度\n",
    "avg_chosen_length = np.mean(token_lengths['chosen_token_length'])\n",
    "avg_rejected_length = np.mean(token_lengths['rejected_token_length'])\n",
    "\n",
    "print(f\"hh-rlhf 数据集采样数据的平均token长度:\")\n",
    "print(f\"被选择的回复 (Chosen): {avg_chosen_length:.2f}\")\n",
    "print(f\"被拒绝的回复 (Rejected): {avg_rejected_length:.2f}\")\n",
    "\n",
    "# 计算最大长度\n",
    "max_chosen_length = np.max(token_lengths['chosen_token_length'])\n",
    "max_rejected_length = np.max(token_lengths['rejected_token_length'])\n",
    "\n",
    "print(f\"\\n最大token长度:\")\n",
    "print(f\"被选择的回复 (Chosen): {max_chosen_length}\")\n",
    "print(f\"被拒绝的回复 (Rejected): {max_rejected_length}\")\n",
    "\n",
    "# 计算90%分位数的长度\n",
    "percentile_90_chosen = np.percentile(token_lengths['chosen_token_length'], 90)\n",
    "percentile_90_rejected = np.percentile(token_lengths['rejected_token_length'], 90)\n",
    "\n",
    "print(f\"\\n90%分位数的token长度:\")\n",
    "print(f\"被选择的回复 (Chosen): {percentile_90_chosen:.2f}\")\n",
    "print(f\"被拒绝的回复 (Rejected): {percentile_90_rejected:.2f}\")"
   ]
  },
  {
   "cell_type": "code",
   "execution_count": null,
   "id": "befc29ea-9c16-474d-a9f0-3915a23a0bf6",
   "metadata": {},
   "outputs": [],
   "source": []
  }
 ],
 "metadata": {
  "kernelspec": {
   "display_name": "Python 3 (ipykernel)",
   "language": "python",
   "name": "python3"
  },
  "language_info": {
   "codemirror_mode": {
    "name": "ipython",
    "version": 3
   },
   "file_extension": ".py",
   "mimetype": "text/x-python",
   "name": "python",
   "nbconvert_exporter": "python",
   "pygments_lexer": "ipython3",
   "version": "3.10.13"
  }
 },
 "nbformat": 4,
 "nbformat_minor": 5
}
