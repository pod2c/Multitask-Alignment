{
 "cells": [
  {
   "cell_type": "code",
   "execution_count": 1,
   "id": "8b3434bd-9a41-49e0-8a64-fe77dd7dd337",
   "metadata": {},
   "outputs": [],
   "source": [
    "import torch\n",
    "from transformers import AutoModelForCausalLM, AutoTokenizer\n",
    "from peft import PeftModel, PeftConfig\n",
    "from datasets import load_dataset\n",
    "from nltk.translate.bleu_score import sentence_bleu\n",
    "from rouge_score import rouge_scorer\n",
    "from tqdm import tqdm"
   ]
  },
  {
   "cell_type": "code",
   "execution_count": 2,
   "id": "0d64bb73-525c-48e7-8343-3b681d07c863",
   "metadata": {},
   "outputs": [],
   "source": [
    "# 加载模型和tokenizer\n",
    "def load_model(base_model_name, peft_model_path):\n",
    "    base_model = AutoModelForCausalLM.from_pretrained(base_model_name, device_map=\"auto\", load_in_8bit=False)\n",
    "    peft_config = PeftConfig.from_pretrained(peft_model_path)\n",
    "    model = PeftModel.from_pretrained(base_model, peft_model_path)\n",
    "    tokenizer = AutoTokenizer.from_pretrained(peft_model_path)\n",
    "    return model, tokenizer"
   ]
  },
  {
   "cell_type": "code",
   "execution_count": 3,
   "id": "7292d43b-47b7-461e-a0f5-bcf91fd21e8a",
   "metadata": {},
   "outputs": [],
   "source": [
    "# 生成回复\n",
    "def generate_response(model, tokenizer, prompt, max_length=512):\n",
    "    inputs = tokenizer(prompt, return_tensors=\"pt\").to(model.device)\n",
    "    with torch.no_grad():\n",
    "        outputs = model.generate(**inputs, max_length=max_length, num_return_sequences=1)\n",
    "    return tokenizer.decode(outputs[0], skip_special_tokens=True)"
   ]
  },
  {
   "cell_type": "code",
   "execution_count": 4,
   "id": "72f2579a-ff52-40c9-96df-af1886d635e2",
   "metadata": {},
   "outputs": [],
   "source": [
    "# 准备数据\n",
    "def prepare_data(example):\n",
    "    chosen_parts = example['chosen'].split('\\n\\nHuman: ')\n",
    "    if len(chosen_parts) > 1:\n",
    "        human_input = chosen_parts[1].split('\\n\\nAssistant: ')[0]\n",
    "        assistant_output = chosen_parts[1].split('\\n\\nAssistant: ')[1].split('\\n\\nHuman: ')[0]\n",
    "        return {\n",
    "            \"input\": human_input.strip(),\n",
    "            \"reference\": assistant_output.strip()\n",
    "        }\n",
    "    else:\n",
    "        return {\"input\": \"\", \"reference\": \"\"}"
   ]
  },
  {
   "cell_type": "code",
   "execution_count": 5,
   "id": "e6fd4063-3ec7-408b-b2c9-9b5b91ade7ee",
   "metadata": {},
   "outputs": [],
   "source": [
    "# 主评估函数\n",
    "from tqdm import tqdm\n",
    "\n",
    "# 在主评估函数中\n",
    "def evaluate(model, tokenizer, dataset):\n",
    "    bleu_scores = []\n",
    "    rouge_scorer_instance = rouge_scorer.RougeScorer(['rouge1', 'rouge2', 'rougeL'], use_stemmer=True)\n",
    "    rouge_scores = {'rouge1': [], 'rouge2': [], 'rougeL': []}\n",
    "\n",
    "    # 使用tqdm创建一个单一的进度条\n",
    "    progress_bar = tqdm(dataset, total=len(dataset), desc=\"Evaluating\")\n",
    "\n",
    "    for example in progress_bar:\n",
    "        if example['input']:  # 确保输入不为空\n",
    "            generated = generate_response(model, tokenizer, example['input'])\n",
    "            reference = example['reference']\n",
    "\n",
    "            # 计算BLEU分数\n",
    "            bleu = sentence_bleu([reference.split()], generated.split())\n",
    "            bleu_scores.append(bleu)\n",
    "\n",
    "            # 计算ROUGE分数\n",
    "            rouge_score = rouge_scorer_instance.score(reference, generated)\n",
    "            for key in rouge_scores:\n",
    "                rouge_scores[key].append(rouge_score[key].fmeasure)\n",
    "\n",
    "        # 更新进度条\n",
    "        progress_bar.set_postfix({'BLEU': sum(bleu_scores) / len(bleu_scores) if bleu_scores else 0})\n",
    "\n",
    "    # 计算平均分数\n",
    "    avg_bleu = sum(bleu_scores) / len(bleu_scores)\n",
    "    avg_rouge = {key: sum(scores) / len(scores) for key, scores in rouge_scores.items()}\n",
    "\n",
    "    return avg_bleu, avg_rouge"
   ]
  },
  {
   "cell_type": "code",
   "execution_count": 6,
   "id": "242a9c66-a86d-48c4-8ea9-ec59bcd483a5",
   "metadata": {},
   "outputs": [],
   "source": [
    "base_model_name = \"llama3\"  # 替换为您的基础模型名称\n",
    "peft_model_path = \"multitask_model1\"  # 替换为您保存的模型路径"
   ]
  },
  {
   "cell_type": "code",
   "execution_count": 7,
   "id": "0aeb0ebf-1554-4799-9968-076c511fcde9",
   "metadata": {},
   "outputs": [
    {
     "data": {
      "application/vnd.jupyter.widget-view+json": {
       "model_id": "7c298f9b59f943689450a1bcb60ae048",
       "version_major": 2,
       "version_minor": 0
      },
      "text/plain": [
       "Loading checkpoint shards:   0%|          | 0/4 [00:00<?, ?it/s]"
      ]
     },
     "metadata": {},
     "output_type": "display_data"
    },
    {
     "name": "stderr",
     "output_type": "stream",
     "text": [
      "Special tokens have been added in the vocabulary, make sure the associated word embeddings are fine-tuned or trained.\n"
     ]
    }
   ],
   "source": [
    "model, tokenizer = load_model(base_model_name, peft_model_path)"
   ]
  },
  {
   "cell_type": "code",
   "execution_count": 8,
   "id": "660b14ee-4423-424e-b324-a110b274859c",
   "metadata": {},
   "outputs": [],
   "source": [
    "# 加载hh-rlhf测试集\n",
    "dataset = load_dataset(\"hh-rlhf\", split=\"test\").select(range(100))\n",
    "processed_dataset = dataset.map(prepare_data, remove_columns=dataset.column_names)"
   ]
  },
  {
   "cell_type": "code",
   "execution_count": 9,
   "id": "e3b585a3-34a6-49dd-95f1-298bec0a230c",
   "metadata": {},
   "outputs": [],
   "source": [
    "import warnings\n",
    "import logging\n",
    "\n",
    "warnings.filterwarnings(\"ignore\")\n",
    "logging.getLogger(\"transformers\").setLevel(logging.ERROR)"
   ]
  },
  {
   "cell_type": "code",
   "execution_count": 10,
   "id": "9402bc46-37ba-4673-b004-eca0adf7097b",
   "metadata": {},
   "outputs": [
    {
     "name": "stderr",
     "output_type": "stream",
     "text": [
      "Evaluating: 100%|██████████| 100/100 [13:36<00:00,  8.16s/it, BLEU=0.002] "
     ]
    },
    {
     "name": "stdout",
     "output_type": "stream",
     "text": [
      "Average BLEU score: 0.0020004898170982287\n",
      "Average ROUGE scores:\n",
      "  rouge1: 0.07118415517590838\n",
      "  rouge2: 0.01505648134563995\n",
      "  rougeL: 0.05227885903169582\n"
     ]
    },
    {
     "name": "stderr",
     "output_type": "stream",
     "text": [
      "\n"
     ]
    }
   ],
   "source": [
    "avg_bleu, avg_rouge = evaluate(model, tokenizer, processed_dataset)\n",
    "    \n",
    "print(f\"Average BLEU score: {avg_bleu}\")\n",
    "print(f\"Average ROUGE scores:\")\n",
    "for key, value in avg_rouge.items():\n",
    "    print(f\"  {key}: {value}\")"
   ]
  },
  {
   "cell_type": "code",
   "execution_count": null,
   "id": "a7f9a9af-6ab0-4ee5-b92f-a7d6e9d9f7b1",
   "metadata": {},
   "outputs": [],
   "source": []
  }
 ],
 "metadata": {
  "kernelspec": {
   "display_name": "Python 3 (ipykernel)",
   "language": "python",
   "name": "python3"
  },
  "language_info": {
   "codemirror_mode": {
    "name": "ipython",
    "version": 3
   },
   "file_extension": ".py",
   "mimetype": "text/x-python",
   "name": "python",
   "nbconvert_exporter": "python",
   "pygments_lexer": "ipython3",
   "version": "3.10.13"
  }
 },
 "nbformat": 4,
 "nbformat_minor": 5
}
